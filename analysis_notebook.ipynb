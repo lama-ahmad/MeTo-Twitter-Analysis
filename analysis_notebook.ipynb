{
 "cells": [
  {
   "cell_type": "code",
   "execution_count": 13,
   "metadata": {},
   "outputs": [],
   "source": [
    "import pandas as pd\n",
    "import numpy as np\n",
    "from textblob import TextBlob\n",
    "import sys"
   ]
  },
  {
   "cell_type": "code",
   "execution_count": 14,
   "metadata": {},
   "outputs": [
    {
     "data": {
      "text/html": [
       "<div>\n",
       "<style>\n",
       "    .dataframe thead tr:only-child th {\n",
       "        text-align: right;\n",
       "    }\n",
       "\n",
       "    .dataframe thead th {\n",
       "        text-align: left;\n",
       "    }\n",
       "\n",
       "    .dataframe tbody tr th {\n",
       "        vertical-align: top;\n",
       "    }\n",
       "</style>\n",
       "<table border=\"1\" class=\"dataframe\">\n",
       "  <thead>\n",
       "    <tr style=\"text-align: right;\">\n",
       "      <th></th>\n",
       "      <th>date_time</th>\n",
       "      <th>tweets</th>\n",
       "    </tr>\n",
       "  </thead>\n",
       "  <tbody>\n",
       "    <tr>\n",
       "      <th>35994</th>\n",
       "      <td>2017-10-28 13:47:38</td>\n",
       "      <td>b'RT @miankhaliq: A man is known by the compan...</td>\n",
       "    </tr>\n",
       "    <tr>\n",
       "      <th>35995</th>\n",
       "      <td>2017-10-28 13:47:30</td>\n",
       "      <td>b'RT @TaranaBurke: 1.7 million people from 85 ...</td>\n",
       "    </tr>\n",
       "    <tr>\n",
       "      <th>35996</th>\n",
       "      <td>2017-10-28 13:47:21</td>\n",
       "      <td>b\"RT @gracedyas: I've been thinking a lot abou...</td>\n",
       "    </tr>\n",
       "    <tr>\n",
       "      <th>35997</th>\n",
       "      <td>2017-10-28 13:47:19</td>\n",
       "      <td>b\"RT @HeForShe: Now, more than ever, it's time...</td>\n",
       "    </tr>\n",
       "    <tr>\n",
       "      <th>35998</th>\n",
       "      <td>2017-10-28 13:47:14</td>\n",
       "      <td>b'RT @TwitterMoments: #MeToo campaign by @Alys...</td>\n",
       "    </tr>\n",
       "  </tbody>\n",
       "</table>\n",
       "</div>"
      ],
      "text/plain": [
       "                 date_time                                             tweets\n",
       "35994  2017-10-28 13:47:38  b'RT @miankhaliq: A man is known by the compan...\n",
       "35995  2017-10-28 13:47:30  b'RT @TaranaBurke: 1.7 million people from 85 ...\n",
       "35996  2017-10-28 13:47:21  b\"RT @gracedyas: I've been thinking a lot abou...\n",
       "35997  2017-10-28 13:47:19  b\"RT @HeForShe: Now, more than ever, it's time...\n",
       "35998  2017-10-28 13:47:14  b'RT @TwitterMoments: #MeToo campaign by @Alys..."
      ]
     },
     "execution_count": 14,
     "metadata": {},
     "output_type": "execute_result"
    }
   ],
   "source": [
    "df = pd.read_csv(\"metoo_2.csv\", )\n",
    "df.columns = [\"date_time\", \"tweets\"]\n",
    "df.tail()"
   ]
  },
  {
   "cell_type": "code",
   "execution_count": 15,
   "metadata": {},
   "outputs": [
    {
     "data": {
      "text/plain": [
       "(35999, 2)"
      ]
     },
     "execution_count": 15,
     "metadata": {},
     "output_type": "execute_result"
    }
   ],
   "source": [
    "df.shape"
   ]
  },
  {
   "cell_type": "code",
   "execution_count": 17,
   "metadata": {},
   "outputs": [
    {
     "data": {
      "text/plain": [
       "#metoo                              26552\n",
       "b'rt                                20325\n",
       "the                                 12789\n",
       "for                                 11208\n",
       "to                                  10213\n",
       "women                                9704\n",
       "just                                 8035\n",
       "a                                    7983\n",
       "of                                   7194\n",
       "isn\\xe2\\x80\\x99t                     7038\n",
       "bucket                               6982\n",
       "challenge\\xe2\\x80\\x99                6974\n",
       "@bpopken:                            6974\n",
       "https://t.co/gh3y7oelby'             6974\n",
       "\\xe2\\x80\\x98ice                      6974\n",
       "is                                   6741\n",
       "and                                  5633\n",
       "sexual                               5047\n",
       "in                                   4677\n",
       "on                                   4282\n",
       "i                                    3635\n",
       "b\"rt                                 3566\n",
       "this                                 3518\n",
       "you                                  3213\n",
       "about                                2833\n",
       "with                                 2796\n",
       "it                                   2766\n",
       "#metoo'                              2603\n",
       "are                                  2585\n",
       "harassment                           2198\n",
       "                                    ...  \n",
       "major                                 132\n",
       "back                                  132\n",
       "white                                 132\n",
       "experiences                           131\n",
       "another                               131\n",
       "accused                               131\n",
       "stories.                              131\n",
       "b'sen.                                131\n",
       "family                                130\n",
       "before                                130\n",
       "@misandry_kills:                      130\n",
       "wants                                 129\n",
       "surface                               129\n",
       "wasn't                                128\n",
       "happened                              128\n",
       "wid                                   128\n",
       "always                                128\n",
       "watch                                 127\n",
       "#metoo\\xe2\\x80\\xa6                    127\n",
       ":                                     126\n",
       "in-laws                               125\n",
       "refused\\n\\ngot                        125\n",
       "gives                                 125\n",
       "this.                                 125\n",
       "old                                   125\n",
       "showered                              125\n",
       "regularly\\n\\n&amp;                    125\n",
       "\\xf0\\x9f\\x92\\xb0\\xf0\\x9f\\x92\\xb0      125\n",
       "decent                                124\n",
       "joined                                124\n",
       "Length: 500, dtype: int64"
      ]
     },
     "execution_count": 17,
     "metadata": {},
     "output_type": "execute_result"
    }
   ],
   "source": [
    "df2 = pd.Series(' '.join(df['tweets']).lower().split()).value_counts()[:500]\n",
    "# df2.to_csv(\"freq_words_2.csv\")\n",
    "df2"
   ]
  },
  {
   "cell_type": "code",
   "execution_count": null,
   "metadata": {},
   "outputs": [],
   "source": []
  },
  {
   "cell_type": "code",
   "execution_count": null,
   "metadata": {},
   "outputs": [],
   "source": [
    "for tweet in df['tweets']:\n",
    "    "
   ]
  }
 ],
 "metadata": {
  "kernelspec": {
   "display_name": "Python 3",
   "language": "python",
   "name": "python3"
  },
  "language_info": {
   "codemirror_mode": {
    "name": "ipython",
    "version": 3
   },
   "file_extension": ".py",
   "mimetype": "text/x-python",
   "name": "python",
   "nbconvert_exporter": "python",
   "pygments_lexer": "ipython3",
   "version": "3.6.3"
  }
 },
 "nbformat": 4,
 "nbformat_minor": 2
}
